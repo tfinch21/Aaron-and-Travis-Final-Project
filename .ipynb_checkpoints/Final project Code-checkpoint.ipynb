{
 "cells": [
  {
   "cell_type": "code",
   "execution_count": 43,
   "metadata": {
    "collapsed": true
   },
   "outputs": [],
   "source": [
    "# what is the filename?\n",
    "filename = \"MLB NL MVP.csv\"\n",
    "\n",
    "# open file and read in lines\n",
    "f = open(filename,'r').readlines()\n",
    "\n",
    "filename2 = \"MLB AL MVP Dataset Rev 1.csv\"\n",
    "\n",
    "# open file and read in lines\n",
    "d = open(filename2,'r').readlines()"
   ]
  },
  {
   "cell_type": "code",
   "execution_count": 46,
   "metadata": {},
   "outputs": [
    {
     "name": "stdout",
     "output_type": "stream",
     "text": [
      "['NL MVP', 'Batting Avg.', 'Year', 'HR', 'RBI']\n",
      "[['G. Stanton', '0.281', '2017', '59', '132'], ['K. Bryant', '0.292', '2016', '39', '102'], ['B. Harper', '0.33', '2015', '42', '99'], ['C. Kershaw', '', '2014', '', ''], ['A. McCutchen', '0.317', '2013', '21', '84'], ['B. Posey', '0.336', '2012', '24', '103'], ['R. Braun', '0.332', '2011', '33', '111'], ['J. Votto', '0.324', '2010', '37', '113'], ['A. Pujols', '0.327', '2009', '47', '135'], ['A. Pujols', '0.357', '2008', '37', '116'], ['J. Rollins', '0.296', '2007', '30', '94'], ['R. Howard', '0.313', '2006', '58', '149'], ['A. Pujols', '0.33', '2005', '41', '117'], ['B. Bonds', '0.362', '2004', '45', '101'], ['B. Bonds', '0.341', '2003', '45', '90'], ['B. Bonds', '0.37', '2002', '46', '110'], ['B. Bonds', '0.328', '2001', '73', '137'], ['J. Kent', '0.334', '2000', '33', '125'], ['C. Jones', '0.319', '1999', '45', '110'], ['S. Sosa', '0.308', '1998', '66', '158'], ['L. Walker', '0.366', '1997', '49', '130'], ['K. Caminiti', '0.326', '1996', '40', '130'], ['B. Larkin', '0.319', '1995', '15', '66'], ['J. Bagewell', '0.368', '1994', '39', '116'], ['B. Bonds', '0.336', '1993', '46', '123'], ['B. Bonds', '0.311', '1992', '34', '103'], ['T. Pendleton', '0.319', '1991', '22', '86'], ['B. Bonds', '0.301', '1990', '33', '114']]\n",
      "['AL MVP', 'Batting Avg.', 'Year', 'HR', 'RBI']\n",
      "[['J. Altuve', '0.346', '2017', '24', '81'], ['M. Trout', '0.315', '2016', '29', '100'], ['J. Donaldson', '0.297', '2015', '41', '123'], ['M. Trout', '0.287', '2014', '36', '111'], ['M. Cabrera', '0.348', '2013', '44', '137'], ['M. Cabrera', '0.33', '2012', '44', '139'], ['J. Verlander', '', '2011', '', ''], ['J. Hamilton', '0.359', '2010', '32', '100'], ['J. Mauer', '0.365', '2009', '28', '96'], ['D. Pedroia', '0.326', '2008', '17', '83'], ['A. Rodriguez', '0.314', '2007', '54', '156'], ['J. Morneau', '0.321', '2006', '34', '130'], ['A. Rodriguez', '0.321', '2005', '48', '130'], ['V. Guerrero', '0.337', '2004', '39', '126'], ['A. Rodriguez', '0.298', '2003', '47', '118'], ['M. Tejada', '0.308', '2002', '34', '131'], ['Ichiro', '0.35', '2001', '8', '69'], ['J. Giambi', '0.333', '2000', '43', '137'], ['I. Rodriguez', '0.332', '1999', '35', '113'], ['J. Gonzalez', '0.318', '1998', '45', '157'], ['K. Griffey', '0.304', '1997', '56', '147'], ['J. Gonzalez', '0.314', '1996', '47', '144'], ['M. Vaughn', '0.3', '1995', '39', '126'], ['F. Thomas', '0.353', '1994', '38', '101'], ['F. Thomas', '0.317', '1993', '41', '128'], ['D. Eckersley', '', '1992', '', ''], ['C. Ripken', '0.323', '1991', '34', '114'], ['R. Henderson', '0.325', '1990', '28', '61']]\n"
     ]
    }
   ],
   "source": [
    "# column labels\n",
    "header = f[0].strip().split(',')\n",
    "print (header)\n",
    "\n",
    "# initialize list for all data\n",
    "data1 = []\n",
    "\n",
    "for row in f: # consider skipping the first row by using f[1:]\n",
    "    formatted_row = row.strip().split(',')\n",
    "    # skip the header row\n",
    "    if formatted_row != header:\n",
    "        # convert formatted_row to floats\n",
    "        for i,elem in enumerate(formatted_row):\n",
    "            formatted_row[i] = (elem)\n",
    "        # append the formatted row to data\n",
    "        data1.append(formatted_row)\n",
    "\n",
    "print (data1)\n",
    "\n",
    "\n",
    "\n",
    "# column labels\n",
    "header = d[0].strip().split(',')\n",
    "print (header)\n",
    "\n",
    "# initialize list for all data\n",
    "data2 = []\n",
    "\n",
    "for row in d: # consider skipping the first row by using f[1:]\n",
    "    formatted_row = row.strip().split(',')\n",
    "    # skip the header row\n",
    "    if formatted_row != header:\n",
    "        # convert formatted_row to floats\n",
    "        for i,elem in enumerate(formatted_row):\n",
    "            formatted_row[i] = (elem)\n",
    "        # append the formatted row to data\n",
    "        data2.append(formatted_row)\n",
    "\n",
    "print (data2)"
   ]
  },
  {
   "cell_type": "code",
   "execution_count": 77,
   "metadata": {},
   "outputs": [
    {
     "name": "stdout",
     "output_type": "stream",
     "text": [
      "dict_keys(['J. Altuve', '0.346', '2017', '24', '81'])\n"
     ]
    }
   ],
   "source": [
    "\n",
    "data_dict = {}\n",
    "header = data[0]\n",
    "\n",
    "\n",
    "\n",
    "for row in data[1:]:\n",
    "    for i,var in enumerate(header):\n",
    "        if var not in data_dict:\n",
    "            data_dict[var] = []\n",
    "        if len(row) == len(header):\n",
    "            data_dict[var].append([row[i]])\n",
    "\n",
    "print (data_dict.keys())"
   ]
  },
  {
   "cell_type": "code",
   "execution_count": 145,
   "metadata": {},
   "outputs": [
    {
     "name": "stdout",
     "output_type": "stream",
     "text": [
      "[['MVP', 'Batting Avg.', 'Year', 'HR', 'RBI', 'League'], ['G. Stanton', 0.281, '2017', 59.0, 132.0, 'NL'], ['K. Bryant', 0.292, '2016', 39.0, 102.0, 'NL'], ['B. Harper', 0.33, '2015', 42.0, 99.0, 'NL'], ['A. McCutchen', 0.317, '2013', 21.0, 84.0, 'NL'], ['B. Posey', 0.336, '2012', 24.0, 103.0, 'NL'], ['R. Braun', 0.332, '2011', 33.0, 111.0, 'NL'], ['J. Votto', 0.324, '2010', 37.0, 113.0, 'NL'], ['A. Pujols', 0.327, '2009', 47.0, 135.0, 'NL'], ['A. Pujols', 0.357, '2008', 37.0, 116.0, 'NL'], ['J. Rollins', 0.296, '2007', 30.0, 94.0, 'NL'], ['R. Howard', 0.313, '2006', 58.0, 149.0, 'NL'], ['A. Pujols', 0.33, '2005', 41.0, 117.0, 'NL'], ['B. Bonds', 0.362, '2004', 45.0, 101.0, 'NL'], ['B. Bonds', 0.341, '2003', 45.0, 90.0, 'NL'], ['B. Bonds', 0.37, '2002', 46.0, 110.0, 'NL'], ['B. Bonds', 0.328, '2001', 73.0, 137.0, 'NL'], ['J. Kent', 0.334, '2000', 33.0, 125.0, 'NL'], ['C. Jones', 0.319, '1999', 45.0, 110.0, 'NL'], ['S. Sosa', 0.308, '1998', 66.0, 158.0, 'NL'], ['L. Walker', 0.366, '1997', 49.0, 130.0, 'NL'], ['K. Caminiti', 0.326, '1996', 40.0, 130.0, 'NL'], ['B. Larkin', 0.319, '1995', 15.0, 66.0, 'NL'], ['J. Bagewell', 0.368, '1994', 39.0, 116.0, 'NL'], ['B. Bonds', 0.336, '1993', 46.0, 123.0, 'NL'], ['B. Bonds', 0.311, '1992', 34.0, 103.0, 'NL'], ['T. Pendleton', 0.319, '1991', 22.0, 86.0, 'NL'], ['B. Bonds', 0.301, '1990', 33.0, 114.0, 'NL'], ['J. Altuve', 0.346, '2017', 24.0, 81.0, 'AL'], ['M. Trout', 0.315, '2016', 29.0, 100.0, 'AL'], ['J. Donaldson', 0.297, '2015', 41.0, 123.0, 'AL'], ['M. Trout', 0.287, '2014', 36.0, 111.0, 'AL'], ['M. Cabrera', 0.348, '2013', 44.0, 137.0, 'AL'], ['M. Cabrera', 0.33, '2012', 44.0, 139.0, 'AL'], ['J. Hamilton', 0.359, '2010', 32.0, 100.0, 'AL'], ['J. Mauer', 0.365, '2009', 28.0, 96.0, 'AL'], ['D. Pedroia', 0.326, '2008', 17.0, 83.0, 'AL'], ['A. Rodriguez', 0.314, '2007', 54.0, 156.0, 'AL'], ['J. Morneau', 0.321, '2006', 34.0, 130.0, 'AL'], ['A. Rodriguez', 0.321, '2005', 48.0, 130.0, 'AL'], ['V. Guerrero', 0.337, '2004', 39.0, 126.0, 'AL'], ['A. Rodriguez', 0.298, '2003', 47.0, 118.0, 'AL'], ['M. Tejada', 0.308, '2002', 34.0, 131.0, 'AL'], ['Ichiro', 0.35, '2001', 8.0, 69.0, 'AL'], ['J. Giambi', 0.333, '2000', 43.0, 137.0, 'AL'], ['I. Rodriguez', 0.332, '1999', 35.0, 113.0, 'AL'], ['J. Gonzalez', 0.318, '1998', 45.0, 157.0, 'AL'], ['K. Griffey', 0.304, '1997', 56.0, 147.0, 'AL'], ['J. Gonzalez', 0.314, '1996', 47.0, 144.0, 'AL'], ['M. Vaughn', 0.3, '1995', 39.0, 126.0, 'AL'], ['F. Thomas', 0.353, '1994', 38.0, 101.0, 'AL'], ['F. Thomas', 0.317, '1993', 41.0, 128.0, 'AL'], ['C. Ripken', 0.323, '1991', 34.0, 114.0, 'AL'], ['R. Henderson', 0.325, '1990', 28.0, 61.0, 'AL']]\n"
     ]
    }
   ],
   "source": [
    "# what is the filename?\n",
    "filename = \"MLB NL MVP.csv\"\n",
    "\n",
    "# open file and read in all lines, including header\n",
    "f = open(filename,'r').readlines()\n",
    "\n",
    "filename2 = \"MLB AL MVP Dataset Rev 1.csv\"\n",
    "\n",
    "# open file and read in lines but skip first line\n",
    "d = open(filename2,'r').readlines()[1:]\n",
    "\n",
    "# column labels\n",
    "header = f[0].strip().split(',')\n",
    "\n",
    "\n",
    "# initialize list for all data\n",
    "data = []\n",
    "\n",
    "for row in f:  # read in NL stats\n",
    "    formatted_row = row.strip().split(',')\n",
    "    if formatted_row == header:\n",
    "        data.append(formatted_row)\n",
    "    else:\n",
    "    # skip the header row\n",
    "        # convert formatted_row to floats except for MVP and Year\n",
    "        for i,elem in enumerate(formatted_row):\n",
    "            if i == 0 or i == 2 or i == 5:\n",
    "                formatted_row[i] = elem\n",
    "\n",
    "            else:\n",
    "                formatted_row[i] = float(elem)\n",
    "        # append the formatted row to data list\n",
    "        data.append(formatted_row)\n",
    "\n",
    "\n",
    "for row in d: # read in AL stats - first row is skipped by readlines()[1:] above\n",
    "    formatted_row = row.strip().split(',')\n",
    "    # convert formatted_row to floats except for MVP and Year\n",
    "    for i,elem in enumerate(formatted_row):\n",
    "        if i == 0 or i == 2 or i == 5:\n",
    "            formatted_row[i] = elem\n",
    "            # leave MVP and year as string\n",
    "       \n",
    "        else:\n",
    "            formatted_row[i] = float(elem) # convert values from string to float\n",
    "    # append the formatted row to data\n",
    "    data.append(formatted_row)\n",
    "\n",
    "print (data)\n",
    "\n",
    "\n",
    "\n",
    "\n"
   ]
  },
  {
   "cell_type": "code",
   "execution_count": 139,
   "metadata": {},
   "outputs": [
    {
     "data": {
      "image/png": "[encoded data removed]",
      "text/plain": [
       "<matplotlib.figure.Figure at 0x118e064e0>"
      ]
     },
     "metadata": {},
     "output_type": "display_data"
    }
   ],
   "source": [
    "# Visualization\n",
    "#Scatterplot\n",
    "#x-axis = year, y-axis = budget\n",
    "\n",
    "#look up matplotlib library\n",
    "\n",
    "import numpy as np\n",
    "import matplotlib.pyplot as plt\n",
    "\n",
    "\n",
    "RBI = []\n",
    "hrs = []\n",
    "\n",
    "for item in data[1:]:\n",
    "   RBI.append(item[4])\n",
    "   hrs.append(item[3])\n",
    "\n",
    "fig, ax = plt.subplots()\n",
    "\n",
    "plt.scatter(RBI, hrs) #,s=area, c=colors, alpha=0.5)\n",
    "\n",
    "ax.set_xlabel('RBIs')\n",
    "ax.set_ylabel('Homeruns')\n",
    "\n",
    "plt.show()\n"
   ]
  },
  {
   "cell_type": "code",
   "execution_count": 94,
   "metadata": {},
   "outputs": [
    {
     "ename": "FileNotFoundError",
     "evalue": "[Errno 2] No such file or directory: 'hurricanes-2015.txt'",
     "output_type": "error",
     "traceback": [
      "\u001b[0;31m---------------------------------------------------------------------------\u001b[0m",
      "\u001b[0;31mFileNotFoundError\u001b[0m                         Traceback (most recent call last)",
      "\u001b[0;32m<ipython-input-94-6f03d0ebd960>\u001b[0m in \u001b[0;36m<module>\u001b[0;34m()\u001b[0m\n\u001b[1;32m     23\u001b[0m \u001b[0;34m\u001b[0m\u001b[0m\n\u001b[1;32m     24\u001b[0m \u001b[0;31m# extract column names by reading the raw file lines\u001b[0m\u001b[0;34m\u001b[0m\u001b[0;34m\u001b[0m\u001b[0m\n\u001b[0;32m---> 25\u001b[0;31m \u001b[0mraw_hurricane_data\u001b[0m \u001b[0;34m=\u001b[0m \u001b[0mopen\u001b[0m\u001b[0;34m(\u001b[0m\u001b[0;34m'hurricanes-2015.txt'\u001b[0m\u001b[0;34m,\u001b[0m\u001b[0;34m'r'\u001b[0m\u001b[0;34m)\u001b[0m\u001b[0;34m.\u001b[0m\u001b[0mreadlines\u001b[0m\u001b[0;34m(\u001b[0m\u001b[0;34m)\u001b[0m\u001b[0;34m\u001b[0m\u001b[0m\n\u001b[0m\u001b[1;32m     26\u001b[0m \u001b[0mheader\u001b[0m \u001b[0;34m=\u001b[0m \u001b[0mraw_hurricane_data\u001b[0m\u001b[0;34m[\u001b[0m\u001b[0;36m0\u001b[0m\u001b[0;34m]\u001b[0m\u001b[0;34m.\u001b[0m\u001b[0msplit\u001b[0m\u001b[0;34m(\u001b[0m\u001b[0;34m'\\t'\u001b[0m\u001b[0;34m)\u001b[0m\u001b[0;34m\u001b[0m\u001b[0m\n\u001b[1;32m     27\u001b[0m \u001b[0;34m\u001b[0m\u001b[0m\n",
      "\u001b[0;31mFileNotFoundError\u001b[0m: [Errno 2] No such file or directory: 'hurricanes-2015.txt'"
     ]
    }
   ],
   "source": [
    "# Question 3: (10 points)\n",
    "\n",
    "# create a boxplot of the maximum wind speed grouped by category\n",
    "# add the following features:\n",
    "# - title\n",
    "# - axis labels\n",
    "# - remove part of the box around the plot\n",
    "# - annotate any outlier points\n",
    "# - change the colors from default (make them congruent with the severity of the storm)\n",
    "\n",
    "import numpy as np\n",
    "import matplotlib.pyplot as plt\n",
    "import matplotlib.cbook as cbook\n",
    "\n",
    "# function to read data from text file and return list of lists\n",
    "def read_data(datafile): #Define function\n",
    "    opener = open(datafile, 'rU').readlines()\n",
    "    sorter = [] #create a list for appending\n",
    "    for row in opener:\n",
    "        sorter.append(row.strip().split('\\t')) #Divides into rows and appends them to sorter list\n",
    "    return sorter\n",
    "\n",
    "\n",
    "# extract column names by reading the raw file lines\n",
    "raw_hurricane_data = open('hurricanes-2015.txt','r').readlines()\n",
    "header = raw_hurricane_data[0].split('\\t')\n",
    "\n",
    "# read in the data\n",
    "hurricane_data = read_data('hurricanes-2015.txt')\n",
    "\n",
    "\n",
    "# create a blank dictionary\n",
    "hurricane_data_dict = {}\n",
    "\n",
    "# loop through data rows\n",
    "for line in hurricane_data[1:]:\n",
    "    if len(line) == 5: # make sure line contains data\n",
    "        if line[4] not in hurricane_data_dict: # only add to the dictionary if the category is not present\n",
    "            hurricane_data_dict[line[4]] = [] \n",
    "        hurricane_data_dict[line[4]].append(int(line[2])) # append the wind speed to the dictionary, converted to int\n",
    "\n",
    "\n",
    "# create an empty list to add data\n",
    "data = []\n",
    "# create empty list for chart labels\n",
    "labels = []\n",
    "for cat in sorted(hurricane_data_dict, reverse=False):\n",
    "    labels.append('Cat ' + str(cat)) # add a label for this category\n",
    "    data.append(hurricane_data_dict[cat]) # append wind speeds for this category\n",
    "\n",
    "\n",
    "# create figure object\n",
    "fig = plt.figure()\n",
    "fig.suptitle('Hurricane Wind Speed By Category', fontsize=14, fontweight='bold')\n",
    "\n",
    "#create boxplot\n",
    "ax = fig.add_subplot(111)\n",
    "bp = ax.boxplot(data, 0, 'gD', patch_artist=True)\n",
    "\n",
    "# add x-axis label\n",
    "ax.set_xlabel('Category')\n",
    "# add y-axis label\n",
    "ax.set_ylabel('Wind Speed')\n",
    "\n",
    "# hide the frame on the first (left) side\n",
    "for spine in plt.gca().spines.values():\n",
    "    spine.set_visible(False)\n",
    "    break\n",
    "\n",
    "# show boxplot\n",
    "plt.show()\n",
    "\n",
    "\n"
   ]
  },
  {
   "cell_type": "code",
   "execution_count": 140,
   "metadata": {},
   "outputs": [
    {
     "data": {
      "image/png": "[encoded data removed]",
      "text/plain": [
       "<matplotlib.figure.Figure at 0x11946e0f0>"
      ]
     },
     "metadata": {},
     "output_type": "display_data"
    }
   ],
   "source": [
    "import numpy as np\n",
    "import matplotlib.pyplot as plt\n",
    "\n",
    "\n",
    "batting_avgs = []\n",
    "hrs = []\n",
    "\n",
    "for item in data[1:]:\n",
    "   batting_avgs.append(item[1])\n",
    "   hrs.append(item[3])\n",
    "\n",
    "\n",
    "fig, ax = plt.subplots()\n",
    "\n",
    "plt.scatter(batting_avgs, hrs) #,s=area, c=colors, alpha=0.5)\n",
    "\n",
    "ax.set_xlabel('Batting Averages')\n",
    "ax.set_ylabel('Homeruns')\n",
    "\n",
    "plt.show()"
   ]
  },
  {
   "cell_type": "code",
   "execution_count": 148,
   "metadata": {},
   "outputs": [
    {
     "name": "stdout",
     "output_type": "stream",
     "text": [
      "Column name: Batting Avg.\n",
      "\tMean: 0.326113207547\n",
      "\tMin: 0.281\n",
      "\tMax: 0.37\n",
      "Column name: HR\n",
      "\tMean: 38.9433962264\n",
      "\tMin: 8.0\n",
      "\tMax: 73.0\n",
      "Column name: RBI\n",
      "\tMean: 115.320754717\n",
      "\tMin: 61.0\n",
      "\tMax: 158.0\n"
     ]
    }
   ],
   "source": [
    "# summarize data\n",
    "def summarize_data(data):\n",
    "   header = data[0]\n",
    "   i=-1\n",
    "   for col in header:\n",
    "       i += 1\n",
    "       if col != 'MVP' and col != 'Year' and col != 'League':\n",
    "           if i != 0:\n",
    "               print (\"Column name:\",col)\n",
    "               column_data = []\n",
    "               for row in data[1:]:\n",
    "                   if len(row) > i:\n",
    "                       if row[i] != '*':\n",
    "                           column_data.append(float(row[i]))\n",
    "               #print column_data statistics\n",
    "               print ('\\tMean:', np.mean(column_data))\n",
    "               print ('\\tMin:', min(column_data))\n",
    "               print ('\\tMax:', max(column_data))\n",
    "\n",
    "\n",
    "summarize_data(data)"
   ]
  },
  {
   "cell_type": "code",
   "execution_count": null,
   "metadata": {
    "collapsed": true
   },
   "outputs": [],
   "source": []
  }
 ],
 "metadata": {
  "kernelspec": {
   "display_name": "Python 3",
   "language": "python",
   "name": "python3"
  },
  "language_info": {
   "codemirror_mode": {
    "name": "ipython",
    "version": 3
   },
   "file_extension": ".py",
   "mimetype": "text/x-python",
   "name": "python",
   "nbconvert_exporter": "python",
   "pygments_lexer": "ipython3",
   "version": "3.6.2"
  }
 },
 "nbformat": 4,
 "nbformat_minor": 2
}
