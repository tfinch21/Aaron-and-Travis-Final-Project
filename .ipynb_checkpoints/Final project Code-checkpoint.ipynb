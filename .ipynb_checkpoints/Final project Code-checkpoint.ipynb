{
 "cells": [
  {
   "cell_type": "code",
   "execution_count": 43,
   "metadata": {
    "collapsed": true
   },
   "outputs": [],
   "source": [
    "# what is the filename?\n",
    "filename = \"MLB NL MVP.csv\"\n",
    "\n",
    "# open file and read in lines\n",
    "f = open(filename,'r').readlines()\n",
    "\n",
    "filename2 = \"MLB AL MVP Dataset Rev 1.csv\"\n",
    "\n",
    "# open file and read in lines\n",
    "d = open(filename2,'r').readlines()"
   ]
  },
  {
   "cell_type": "code",
   "execution_count": 46,
   "metadata": {},
   "outputs": [
    {
     "name": "stdout",
     "output_type": "stream",
     "text": [
      "['NL MVP', 'Batting Avg.', 'Year', 'HR', 'RBI']\n",
      "[['G. Stanton', '0.281', '2017', '59', '132'], ['K. Bryant', '0.292', '2016', '39', '102'], ['B. Harper', '0.33', '2015', '42', '99'], ['C. Kershaw', '', '2014', '', ''], ['A. McCutchen', '0.317', '2013', '21', '84'], ['B. Posey', '0.336', '2012', '24', '103'], ['R. Braun', '0.332', '2011', '33', '111'], ['J. Votto', '0.324', '2010', '37', '113'], ['A. Pujols', '0.327', '2009', '47', '135'], ['A. Pujols', '0.357', '2008', '37', '116'], ['J. Rollins', '0.296', '2007', '30', '94'], ['R. Howard', '0.313', '2006', '58', '149'], ['A. Pujols', '0.33', '2005', '41', '117'], ['B. Bonds', '0.362', '2004', '45', '101'], ['B. Bonds', '0.341', '2003', '45', '90'], ['B. Bonds', '0.37', '2002', '46', '110'], ['B. Bonds', '0.328', '2001', '73', '137'], ['J. Kent', '0.334', '2000', '33', '125'], ['C. Jones', '0.319', '1999', '45', '110'], ['S. Sosa', '0.308', '1998', '66', '158'], ['L. Walker', '0.366', '1997', '49', '130'], ['K. Caminiti', '0.326', '1996', '40', '130'], ['B. Larkin', '0.319', '1995', '15', '66'], ['J. Bagewell', '0.368', '1994', '39', '116'], ['B. Bonds', '0.336', '1993', '46', '123'], ['B. Bonds', '0.311', '1992', '34', '103'], ['T. Pendleton', '0.319', '1991', '22', '86'], ['B. Bonds', '0.301', '1990', '33', '114']]\n",
      "['AL MVP', 'Batting Avg.', 'Year', 'HR', 'RBI']\n",
      "[['J. Altuve', '0.346', '2017', '24', '81'], ['M. Trout', '0.315', '2016', '29', '100'], ['J. Donaldson', '0.297', '2015', '41', '123'], ['M. Trout', '0.287', '2014', '36', '111'], ['M. Cabrera', '0.348', '2013', '44', '137'], ['M. Cabrera', '0.33', '2012', '44', '139'], ['J. Verlander', '', '2011', '', ''], ['J. Hamilton', '0.359', '2010', '32', '100'], ['J. Mauer', '0.365', '2009', '28', '96'], ['D. Pedroia', '0.326', '2008', '17', '83'], ['A. Rodriguez', '0.314', '2007', '54', '156'], ['J. Morneau', '0.321', '2006', '34', '130'], ['A. Rodriguez', '0.321', '2005', '48', '130'], ['V. Guerrero', '0.337', '2004', '39', '126'], ['A. Rodriguez', '0.298', '2003', '47', '118'], ['M. Tejada', '0.308', '2002', '34', '131'], ['Ichiro', '0.35', '2001', '8', '69'], ['J. Giambi', '0.333', '2000', '43', '137'], ['I. Rodriguez', '0.332', '1999', '35', '113'], ['J. Gonzalez', '0.318', '1998', '45', '157'], ['K. Griffey', '0.304', '1997', '56', '147'], ['J. Gonzalez', '0.314', '1996', '47', '144'], ['M. Vaughn', '0.3', '1995', '39', '126'], ['F. Thomas', '0.353', '1994', '38', '101'], ['F. Thomas', '0.317', '1993', '41', '128'], ['D. Eckersley', '', '1992', '', ''], ['C. Ripken', '0.323', '1991', '34', '114'], ['R. Henderson', '0.325', '1990', '28', '61']]\n"
     ]
    }
   ],
   "source": [
    "# column labels\n",
    "header = f[0].strip().split(',')\n",
    "print (header)\n",
    "\n",
    "# initialize list for all data\n",
    "data1 = []\n",
    "\n",
    "for row in f: # consider skipping the first row by using f[1:]\n",
    "    formatted_row = row.strip().split(',')\n",
    "    # skip the header row\n",
    "    if formatted_row != header:\n",
    "        # convert formatted_row to floats\n",
    "        for i,elem in enumerate(formatted_row):\n",
    "            formatted_row[i] = (elem)\n",
    "        # append the formatted row to data\n",
    "        data1.append(formatted_row)\n",
    "\n",
    "print (data1)\n",
    "\n",
    "\n",
    "\n",
    "# column labels\n",
    "header = d[0].strip().split(',')\n",
    "print (header)\n",
    "\n",
    "# initialize list for all data\n",
    "data2 = []\n",
    "\n",
    "for row in d: # consider skipping the first row by using f[1:]\n",
    "    formatted_row = row.strip().split(',')\n",
    "    # skip the header row\n",
    "    if formatted_row != header:\n",
    "        # convert formatted_row to floats\n",
    "        for i,elem in enumerate(formatted_row):\n",
    "            formatted_row[i] = (elem)\n",
    "        # append the formatted row to data\n",
    "        data2.append(formatted_row)\n",
    "\n",
    "print (data2)"
   ]
  },
  {
   "cell_type": "code",
   "execution_count": 77,
   "metadata": {},
   "outputs": [
    {
     "name": "stdout",
     "output_type": "stream",
     "text": [
      "dict_keys(['J. Altuve', '0.346', '2017', '24', '81'])\n"
     ]
    }
   ],
   "source": [
    "\n",
    "data_dict = {}\n",
    "header = data[0]\n",
    "\n",
    "\n",
    "\n",
    "for row in data[1:]:\n",
    "    for i,var in enumerate(header):\n",
    "        if var not in data_dict:\n",
    "            data_dict[var] = []\n",
    "        if len(row) == len(header):\n",
    "            data_dict[var].append([row[i]])\n",
    "\n",
    "print (data_dict.keys())"
   ]
  },
  {
   "cell_type": "code",
   "execution_count": 80,
   "metadata": {},
   "outputs": [
    {
     "name": "stdout",
     "output_type": "stream",
     "text": [
      "['NL MVP', 'Batting Avg.', 'Year', 'HR', 'RBI']\n",
      "[['G. Stanton', '0.281', '2017', '59', '132'], ['K. Bryant', '0.292', '2016', '39', '102'], ['B. Harper', '0.33', '2015', '42', '99'], ['C. Kershaw', '', '2014', '', ''], ['A. McCutchen', '0.317', '2013', '21', '84'], ['B. Posey', '0.336', '2012', '24', '103'], ['R. Braun', '0.332', '2011', '33', '111'], ['J. Votto', '0.324', '2010', '37', '113'], ['A. Pujols', '0.327', '2009', '47', '135'], ['A. Pujols', '0.357', '2008', '37', '116'], ['J. Rollins', '0.296', '2007', '30', '94'], ['R. Howard', '0.313', '2006', '58', '149'], ['A. Pujols', '0.33', '2005', '41', '117'], ['B. Bonds', '0.362', '2004', '45', '101'], ['B. Bonds', '0.341', '2003', '45', '90'], ['B. Bonds', '0.37', '2002', '46', '110'], ['B. Bonds', '0.328', '2001', '73', '137'], ['J. Kent', '0.334', '2000', '33', '125'], ['C. Jones', '0.319', '1999', '45', '110'], ['S. Sosa', '0.308', '1998', '66', '158'], ['L. Walker', '0.366', '1997', '49', '130'], ['K. Caminiti', '0.326', '1996', '40', '130'], ['B. Larkin', '0.319', '1995', '15', '66'], ['J. Bagewell', '0.368', '1994', '39', '116'], ['B. Bonds', '0.336', '1993', '46', '123'], ['B. Bonds', '0.311', '1992', '34', '103'], ['T. Pendleton', '0.319', '1991', '22', '86'], ['B. Bonds', '0.301', '1990', '33', '114'], ['J. Altuve', 0.346, '2017', 24.0, 81.0], ['J. Altuve', 0.346, '2017', 24.0, 81.0], ['J. Altuve', 0.346, '2017', 24.0, 81.0], ['J. Altuve', 0.346, '2017', 24.0, 81.0], ['J. Altuve', 0.346, '2017', 24.0, 81.0], ['M. Trout', 0.315, '2016', 29.0, 100.0], ['M. Trout', 0.315, '2016', 29.0, 100.0], ['M. Trout', 0.315, '2016', 29.0, 100.0], ['M. Trout', 0.315, '2016', 29.0, 100.0], ['M. Trout', 0.315, '2016', 29.0, 100.0], ['J. Donaldson', 0.297, '2015', 41.0, 123.0], ['J. Donaldson', 0.297, '2015', 41.0, 123.0], ['J. Donaldson', 0.297, '2015', 41.0, 123.0], ['J. Donaldson', 0.297, '2015', 41.0, 123.0], ['J. Donaldson', 0.297, '2015', 41.0, 123.0], ['M. Trout', 0.287, '2014', 36.0, 111.0], ['M. Trout', 0.287, '2014', 36.0, 111.0], ['M. Trout', 0.287, '2014', 36.0, 111.0], ['M. Trout', 0.287, '2014', 36.0, 111.0], ['M. Trout', 0.287, '2014', 36.0, 111.0], ['M. Cabrera', 0.348, '2013', 44.0, 137.0], ['M. Cabrera', 0.348, '2013', 44.0, 137.0], ['M. Cabrera', 0.348, '2013', 44.0, 137.0], ['M. Cabrera', 0.348, '2013', 44.0, 137.0], ['M. Cabrera', 0.348, '2013', 44.0, 137.0], ['M. Cabrera', 0.33, '2012', 44.0, 139.0], ['M. Cabrera', 0.33, '2012', 44.0, 139.0], ['M. Cabrera', 0.33, '2012', 44.0, 139.0], ['M. Cabrera', 0.33, '2012', 44.0, 139.0], ['M. Cabrera', 0.33, '2012', 44.0, 139.0], ['J. Verlander', 0.0, '2011', 0.0, 0.0], ['J. Verlander', 0.0, '2011', 0.0, 0.0], ['J. Verlander', 0.0, '2011', 0.0, 0.0], ['J. Verlander', 0.0, '2011', 0.0, 0.0], ['J. Verlander', 0.0, '2011', 0.0, 0.0], ['J. Hamilton', 0.359, '2010', 32.0, 100.0], ['J. Hamilton', 0.359, '2010', 32.0, 100.0], ['J. Hamilton', 0.359, '2010', 32.0, 100.0], ['J. Hamilton', 0.359, '2010', 32.0, 100.0], ['J. Hamilton', 0.359, '2010', 32.0, 100.0], ['J. Mauer', 0.365, '2009', 28.0, 96.0], ['J. Mauer', 0.365, '2009', 28.0, 96.0], ['J. Mauer', 0.365, '2009', 28.0, 96.0], ['J. Mauer', 0.365, '2009', 28.0, 96.0], ['J. Mauer', 0.365, '2009', 28.0, 96.0], ['D. Pedroia', 0.326, '2008', 17.0, 83.0], ['D. Pedroia', 0.326, '2008', 17.0, 83.0], ['D. Pedroia', 0.326, '2008', 17.0, 83.0], ['D. Pedroia', 0.326, '2008', 17.0, 83.0], ['D. Pedroia', 0.326, '2008', 17.0, 83.0], ['A. Rodriguez', 0.314, '2007', 54.0, 156.0], ['A. Rodriguez', 0.314, '2007', 54.0, 156.0], ['A. Rodriguez', 0.314, '2007', 54.0, 156.0], ['A. Rodriguez', 0.314, '2007', 54.0, 156.0], ['A. Rodriguez', 0.314, '2007', 54.0, 156.0], ['J. Morneau', 0.321, '2006', 34.0, 130.0], ['J. Morneau', 0.321, '2006', 34.0, 130.0], ['J. Morneau', 0.321, '2006', 34.0, 130.0], ['J. Morneau', 0.321, '2006', 34.0, 130.0], ['J. Morneau', 0.321, '2006', 34.0, 130.0], ['A. Rodriguez', 0.321, '2005', 48.0, 130.0], ['A. Rodriguez', 0.321, '2005', 48.0, 130.0], ['A. Rodriguez', 0.321, '2005', 48.0, 130.0], ['A. Rodriguez', 0.321, '2005', 48.0, 130.0], ['A. Rodriguez', 0.321, '2005', 48.0, 130.0], ['V. Guerrero', 0.337, '2004', 39.0, 126.0], ['V. Guerrero', 0.337, '2004', 39.0, 126.0], ['V. Guerrero', 0.337, '2004', 39.0, 126.0], ['V. Guerrero', 0.337, '2004', 39.0, 126.0], ['V. Guerrero', 0.337, '2004', 39.0, 126.0], ['A. Rodriguez', 0.298, '2003', 47.0, 118.0], ['A. Rodriguez', 0.298, '2003', 47.0, 118.0], ['A. Rodriguez', 0.298, '2003', 47.0, 118.0], ['A. Rodriguez', 0.298, '2003', 47.0, 118.0], ['A. Rodriguez', 0.298, '2003', 47.0, 118.0], ['M. Tejada', 0.308, '2002', 34.0, 131.0], ['M. Tejada', 0.308, '2002', 34.0, 131.0], ['M. Tejada', 0.308, '2002', 34.0, 131.0], ['M. Tejada', 0.308, '2002', 34.0, 131.0], ['M. Tejada', 0.308, '2002', 34.0, 131.0], ['Ichiro', 0.35, '2001', 8.0, 69.0], ['Ichiro', 0.35, '2001', 8.0, 69.0], ['Ichiro', 0.35, '2001', 8.0, 69.0], ['Ichiro', 0.35, '2001', 8.0, 69.0], ['Ichiro', 0.35, '2001', 8.0, 69.0], ['J. Giambi', 0.333, '2000', 43.0, 137.0], ['J. Giambi', 0.333, '2000', 43.0, 137.0], ['J. Giambi', 0.333, '2000', 43.0, 137.0], ['J. Giambi', 0.333, '2000', 43.0, 137.0], ['J. Giambi', 0.333, '2000', 43.0, 137.0], ['I. Rodriguez', 0.332, '1999', 35.0, 113.0], ['I. Rodriguez', 0.332, '1999', 35.0, 113.0], ['I. Rodriguez', 0.332, '1999', 35.0, 113.0], ['I. Rodriguez', 0.332, '1999', 35.0, 113.0], ['I. Rodriguez', 0.332, '1999', 35.0, 113.0], ['J. Gonzalez', 0.318, '1998', 45.0, 157.0], ['J. Gonzalez', 0.318, '1998', 45.0, 157.0], ['J. Gonzalez', 0.318, '1998', 45.0, 157.0], ['J. Gonzalez', 0.318, '1998', 45.0, 157.0], ['J. Gonzalez', 0.318, '1998', 45.0, 157.0], ['K. Griffey', 0.304, '1997', 56.0, 147.0], ['K. Griffey', 0.304, '1997', 56.0, 147.0], ['K. Griffey', 0.304, '1997', 56.0, 147.0], ['K. Griffey', 0.304, '1997', 56.0, 147.0], ['K. Griffey', 0.304, '1997', 56.0, 147.0], ['J. Gonzalez', 0.314, '1996', 47.0, 144.0], ['J. Gonzalez', 0.314, '1996', 47.0, 144.0], ['J. Gonzalez', 0.314, '1996', 47.0, 144.0], ['J. Gonzalez', 0.314, '1996', 47.0, 144.0], ['J. Gonzalez', 0.314, '1996', 47.0, 144.0], ['M. Vaughn', 0.3, '1995', 39.0, 126.0], ['M. Vaughn', 0.3, '1995', 39.0, 126.0], ['M. Vaughn', 0.3, '1995', 39.0, 126.0], ['M. Vaughn', 0.3, '1995', 39.0, 126.0], ['M. Vaughn', 0.3, '1995', 39.0, 126.0], ['F. Thomas', 0.353, '1994', 38.0, 101.0], ['F. Thomas', 0.353, '1994', 38.0, 101.0], ['F. Thomas', 0.353, '1994', 38.0, 101.0], ['F. Thomas', 0.353, '1994', 38.0, 101.0], ['F. Thomas', 0.353, '1994', 38.0, 101.0], ['F. Thomas', 0.317, '1993', 41.0, 128.0], ['F. Thomas', 0.317, '1993', 41.0, 128.0], ['F. Thomas', 0.317, '1993', 41.0, 128.0], ['F. Thomas', 0.317, '1993', 41.0, 128.0], ['F. Thomas', 0.317, '1993', 41.0, 128.0], ['D. Eckersley', 0.0, '1992', 0.0, 0.0], ['D. Eckersley', 0.0, '1992', 0.0, 0.0], ['D. Eckersley', 0.0, '1992', 0.0, 0.0], ['D. Eckersley', 0.0, '1992', 0.0, 0.0], ['D. Eckersley', 0.0, '1992', 0.0, 0.0], ['C. Ripken', 0.323, '1991', 34.0, 114.0], ['C. Ripken', 0.323, '1991', 34.0, 114.0], ['C. Ripken', 0.323, '1991', 34.0, 114.0], ['C. Ripken', 0.323, '1991', 34.0, 114.0], ['C. Ripken', 0.323, '1991', 34.0, 114.0], ['R. Henderson', 0.325, '1990', 28.0, 61.0], ['R. Henderson', 0.325, '1990', 28.0, 61.0], ['R. Henderson', 0.325, '1990', 28.0, 61.0], ['R. Henderson', 0.325, '1990', 28.0, 61.0], ['R. Henderson', 0.325, '1990', 28.0, 61.0]]\n"
     ]
    }
   ],
   "source": [
    "# what is the filename?\n",
    "filename = \"MLB NL MVP.csv\"\n",
    "\n",
    "# open file and read in all lines, including header\n",
    "f = open(filename,'r').readlines()\n",
    "\n",
    "filename2 = \"MLB AL MVP Dataset Rev 1.csv\"\n",
    "\n",
    "# open file and read in lines but skip first line\n",
    "d = open(filename2,'r').readlines()[1:]\n",
    "\n",
    "# column labels\n",
    "header = f[0].strip().split(',')\n",
    "print (header)\n",
    "\n",
    "# initialize list for all data\n",
    "data = []\n",
    "\n",
    "for row in f:  # read in NL stats\n",
    "    formatted_row = row.strip().split(',')\n",
    "    # skip the header row\n",
    "    if formatted_row != header:\n",
    "        # convert formatted_row to floats except for MVP and Year\n",
    "        for i,elem in enumerate(formatted_row):\n",
    "            if i == 0 or i == 2:\n",
    "                formatted_row[i] = elem\n",
    "            else:\n",
    "                formatted_row[i] = (elem)\n",
    "        # append the formatted row to data list\n",
    "        data.append(formatted_row)\n",
    "\n",
    "\n",
    "for row in d: # read in AL stats - first row is skipped by readlines()[1:] above\n",
    "    formatted_row = row.strip().split(',')\n",
    "    # convert formatted_row to floats except for MVP and Year\n",
    "    for i,elem in enumerate(formatted_row):\n",
    "        if i == 0 or i == 2:\n",
    "            formatted_row[i] = elem # leave MVP and year as string\n",
    "        else:\n",
    "            formatted_row[i] = float(elem) # convert values from string to float\n",
    "        # append the formatted row to data\n",
    "        data.append(formatted_row)\n",
    "\n",
    "print (data)"
   ]
  },
  {
   "cell_type": "code",
   "execution_count": null,
   "metadata": {
    "collapsed": true
   },
   "outputs": [],
   "source": []
  }
 ],
 "metadata": {
  "kernelspec": {
   "display_name": "Python 3",
   "language": "python",
   "name": "python3"
  },
  "language_info": {
   "codemirror_mode": {
    "name": "ipython",
    "version": 3
   },
   "file_extension": ".py",
   "mimetype": "text/x-python",
   "name": "python",
   "nbconvert_exporter": "python",
   "pygments_lexer": "ipython3",
   "version": "3.6.2"
  }
 },
 "nbformat": 4,
 "nbformat_minor": 2
}
